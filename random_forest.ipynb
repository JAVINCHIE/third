{
  "nbformat": 4,
  "nbformat_minor": 0,
  "metadata": {
    "colab": {
      "provenance": [],
      "authorship_tag": "ABX9TyOtQL4rR5hiioEDzZXut3Pz",
      "include_colab_link": true
    },
    "kernelspec": {
      "name": "python3",
      "display_name": "Python 3"
    },
    "language_info": {
      "name": "python"
    }
  },
  "cells": [
    {
      "cell_type": "markdown",
      "metadata": {
        "id": "view-in-github",
        "colab_type": "text"
      },
      "source": [
        "<a href=\"https://colab.research.google.com/github/JAVINCHIE/third/blob/main/random_forest.ipynb\" target=\"_parent\"><img src=\"https://colab.research.google.com/assets/colab-badge.svg\" alt=\"Open In Colab\"/></a>"
      ]
    },
    {
      "cell_type": "code",
      "execution_count": 3,
      "metadata": {
        "id": "eXaaizXl9LS_"
      },
      "outputs": [],
      "source": [
        "import pandas as pd\n",
        "train_df = pd.read_csv('/content/train.csv')\n",
        "test_df = pd.read_csv('/content/test.csv')"
      ]
    },
    {
      "cell_type": "code",
      "source": [
        "import pandas as pd\n",
        "from sklearn.model_selection import train_test_split, GridSearchCV\n",
        "from sklearn.ensemble import RandomForestClassifier\n",
        "from sklearn.metrics import classification_report, accuracy_score\n",
        "from sklearn.preprocessing import StandardScaler, OneHotEncoder\n",
        "from sklearn.compose import ColumnTransformer\n",
        "from sklearn.pipeline import Pipeline\n",
        "from sklearn.impute import SimpleImputer\n",
        "\n",
        "\n",
        "# Separate features and target variable for training\n",
        "X_train = train_df.drop(columns=['id', 'Target'])\n",
        "y_train = train_df['Target']\n",
        "\n",
        "# Separate features for testing (assuming no 'Target' column in the test set)\n",
        "X_test = test_df.drop(columns=['id'])\n",
        "\n",
        "# Splitting the training data into training and validation sets\n",
        "X_train_split, X_val, y_train_split, y_val = train_test_split(X_train, y_train, test_size=0.2, random_state=42)\n",
        "\n",
        "# Identify categorical and numerical columns\n",
        "categorical_cols = X_train.select_dtypes(include=['object', 'category']).columns\n",
        "numerical_cols = X_train.select_dtypes(include=['int64', 'float64']).columns\n",
        "\n",
        "# Preprocessing for numerical data\n",
        "numerical_transformer = Pipeline(steps=[\n",
        "    ('imputer', SimpleImputer(strategy='mean')),\n",
        "    ('scaler', StandardScaler())\n",
        "])\n",
        "\n",
        "# Preprocessing for categorical data\n",
        "categorical_transformer = Pipeline(steps=[\n",
        "    ('imputer', SimpleImputer(strategy='most_frequent')),\n",
        "    ('onehot', OneHotEncoder(handle_unknown='ignore'))\n",
        "])\n",
        "\n",
        "# Combine preprocessing steps\n",
        "preprocessor = ColumnTransformer(\n",
        "    transformers=[\n",
        "        ('num', numerical_transformer, numerical_cols),\n",
        "        ('cat', categorical_transformer, categorical_cols)\n",
        "    ])\n",
        "\n",
        "# Define the model\n",
        "model = RandomForestClassifier(random_state=42)\n",
        "\n",
        "# Create and evaluate the pipeline\n",
        "pipeline = Pipeline(steps=[\n",
        "    ('preprocessor', preprocessor),\n",
        "    ('classifier', model)\n",
        "])\n",
        "\n",
        "# Define the parameter grid for Grid Search\n",
        "param_grid = {\n",
        "    'classifier__n_estimators': [100, 200, 300],\n",
        "    'classifier__max_depth': [None, 10, 20, 30],\n",
        "    'classifier__min_samples_split': [2, 5, 10],\n",
        "    'classifier__min_samples_leaf': [1, 2, 4],\n",
        "    'classifier__bootstrap': [True, False]\n",
        "}\n",
        "\n",
        "# Set up the grid search\n",
        "grid_search = GridSearchCV(pipeline, param_grid, cv=5, scoring='accuracy', n_jobs=-1)\n",
        "\n",
        "# Fit the grid search to the data\n",
        "grid_search.fit(X_train_split, y_train_split)\n",
        "\n",
        "# Best parameters found by grid search\n",
        "best_params = grid_search.best_params_\n",
        "print(\"Best parameters found: \", best_params)\n",
        "\n",
        "# Using the best parameters to initialize the model\n",
        "best_pipeline = grid_search.best_estimator_\n",
        "\n",
        "# Predicting on the validation set\n",
        "y_val_pred = best_pipeline.predict(X_val)\n",
        "\n",
        "# Evaluating the model\n",
        "accuracy = accuracy_score(y_val, y_val_pred)\n",
        "classification_rep = classification_report(y_val, y_val_pred)\n",
        "\n",
        "print(\"Validation Accuracy:\", accuracy)\n",
        "print(\"Classification Report:\\n\", classification_rep)\n",
        "\n",
        "# Predicting on the test set\n",
        "test_predictions = best_pipeline.predict(X_test)\n",
        "\n",
        "# Assuming you want to save the predictions with the original IDs\n",
        "test_df['Predicted_Target'] = test_predictions\n",
        "\n",
        "# Saving the predictions to a new CSV file\n",
        "test_df[['id', 'Predicted_Target']].to_csv('test_predictions_rf.csv', index=False)\n",
        "\n",
        "print(\"Predictions saved to test_predictions.csv\")\n"
      ],
      "metadata": {
        "id": "H8P0CHP1JBj-"
      },
      "execution_count": null,
      "outputs": []
    }
  ]
}